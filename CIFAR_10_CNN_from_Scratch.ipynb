{
  "nbformat": 4,
  "nbformat_minor": 0,
  "metadata": {
    "colab": {
      "provenance": [],
      "authorship_tag": "ABX9TyNGz/gsLSCryFsbbSEQFKjF",
      "include_colab_link": true
    },
    "kernelspec": {
      "name": "python3",
      "display_name": "Python 3"
    },
    "language_info": {
      "name": "python"
    }
  },
  "cells": [
    {
      "cell_type": "markdown",
      "metadata": {
        "id": "view-in-github",
        "colab_type": "text"
      },
      "source": [
        "<a href=\"https://colab.research.google.com/github/abhayratti/CNN-with-Pytorch-CIFAR-10-/blob/main/CIFAR_10_CNN_from_Scratch.ipynb\" target=\"_parent\"><img src=\"https://colab.research.google.com/assets/colab-badge.svg\" alt=\"Open In Colab\"/></a>"
      ]
    },
    {
      "cell_type": "code",
      "execution_count": 41,
      "metadata": {
        "id": "Lfe4olW0ujXu"
      },
      "outputs": [],
      "source": [
        "import torch\n",
        "import torchvision\n",
        "import torchvision.transforms as transforms"
      ]
    },
    {
      "cell_type": "code",
      "source": [
        "trainset = torchvision.datasets.CIFAR10(root='./content',\n",
        "                                        train=True, # asking for training data\n",
        "                                        download=True, \n",
        "                                        transform=transforms.ToTensor()) # convert images to tensors"
      ],
      "metadata": {
        "colab": {
          "base_uri": "https://localhost:8080/"
        },
        "id": "NuKHuURotMVk",
        "outputId": "63105a24-ad6e-461c-c7a5-6b5c27a97d31"
      },
      "execution_count": 42,
      "outputs": [
        {
          "output_type": "stream",
          "name": "stdout",
          "text": [
            "Files already downloaded and verified\n"
          ]
        }
      ]
    },
    {
      "cell_type": "code",
      "source": [
        "trainset"
      ],
      "metadata": {
        "colab": {
          "base_uri": "https://localhost:8080/"
        },
        "id": "-dEJyQXBtnuA",
        "outputId": "5caee036-4736-4921-e3b2-eed4c18bc586"
      },
      "execution_count": 43,
      "outputs": [
        {
          "output_type": "execute_result",
          "data": {
            "text/plain": [
              "Dataset CIFAR10\n",
              "    Number of datapoints: 50000\n",
              "    Root location: ./content\n",
              "    Split: Train\n",
              "    StandardTransform\n",
              "Transform: ToTensor()"
            ]
          },
          "metadata": {},
          "execution_count": 43
        }
      ]
    },
    {
      "cell_type": "code",
      "source": [
        "# want to feed training data into nn in batches\n",
        "trainloader = torch.utils.data.DataLoader(trainset,\n",
        "                                          batch_size=8, # 8 images per batch\n",
        "                                          shuffle=True, # randomize data\n",
        "                                          num_workers=2) # 2 subprocesses for data loading"
      ],
      "metadata": {
        "id": "nFcsyDKot4gQ"
      },
      "execution_count": 44,
      "outputs": []
    },
    {
      "cell_type": "code",
      "source": [
        "testset = torchvision.datasets.CIFAR10(root='./datasets',\n",
        "                                       train=False, # asking for test data\n",
        "                                       download=True,\n",
        "                                       transform=transforms.ToTensor())"
      ],
      "metadata": {
        "colab": {
          "base_uri": "https://localhost:8080/"
        },
        "id": "HGnh-HlIuUXz",
        "outputId": "43133fd4-78d0-4d28-fbcb-f2a906b979c8"
      },
      "execution_count": 45,
      "outputs": [
        {
          "output_type": "stream",
          "name": "stdout",
          "text": [
            "Files already downloaded and verified\n"
          ]
        }
      ]
    },
    {
      "cell_type": "code",
      "source": [
        "testset "
      ],
      "metadata": {
        "colab": {
          "base_uri": "https://localhost:8080/"
        },
        "id": "5REQWCVTuji9",
        "outputId": "ec71b8d3-f61b-461f-a7bf-b430bd287af7"
      },
      "execution_count": 46,
      "outputs": [
        {
          "output_type": "execute_result",
          "data": {
            "text/plain": [
              "Dataset CIFAR10\n",
              "    Number of datapoints: 10000\n",
              "    Root location: ./datasets\n",
              "    Split: Test\n",
              "    StandardTransform\n",
              "Transform: ToTensor()"
            ]
          },
          "metadata": {},
          "execution_count": 46
        }
      ]
    },
    {
      "cell_type": "code",
      "source": [
        "testloader = torch.utils.data.DataLoader(testset,\n",
        "                                         batch_size=8,\n",
        "                                         shuffle=False, # no need for randomization \n",
        "                                         num_workers=2)"
      ],
      "metadata": {
        "id": "Ver2wtAAuuon"
      },
      "execution_count": 47,
      "outputs": []
    },
    {
      "cell_type": "code",
      "source": [
        "labels = ('plane', 'car', 'bird', 'cat', 'deer', \n",
        "          'dog', 'frog', 'horse', 'ship', 'truck')"
      ],
      "metadata": {
        "id": "vg6CLDFQu-at"
      },
      "execution_count": 48,
      "outputs": []
    },
    {
      "cell_type": "code",
      "source": [
        "import matplotlib.pyplot as plt\n",
        "import numpy as np"
      ],
      "metadata": {
        "id": "gotzs0VDvRaZ"
      },
      "execution_count": 49,
      "outputs": []
    },
    {
      "cell_type": "code",
      "source": [
        "trainiter = iter(trainloader)\n",
        "images_batch, labels_batch = next(trainiter)"
      ],
      "metadata": {
        "id": "9m5DZnjAvW1P"
      },
      "execution_count": 66,
      "outputs": []
    },
    {
      "cell_type": "code",
      "source": [
        "images_batch.shape # [batch size, channels (rgb), height, width]"
      ],
      "metadata": {
        "colab": {
          "base_uri": "https://localhost:8080/"
        },
        "id": "8v2pxa1_vawF",
        "outputId": "5597fa75-c26c-4081-ebd0-b31f2461d8c9"
      },
      "execution_count": 51,
      "outputs": [
        {
          "output_type": "execute_result",
          "data": {
            "text/plain": [
              "torch.Size([8, 3, 32, 32])"
            ]
          },
          "metadata": {},
          "execution_count": 51
        }
      ]
    },
    {
      "cell_type": "code",
      "source": [
        "img = torchvision.utils.make_grid(images_batch) # create grid of images in this batch"
      ],
      "metadata": {
        "id": "ywlT8vWGwk4I"
      },
      "execution_count": 52,
      "outputs": []
    },
    {
      "cell_type": "code",
      "source": [
        "img.shape # [channels, height, width] 8 images with 2 pixel padding between them - "
      ],
      "metadata": {
        "colab": {
          "base_uri": "https://localhost:8080/"
        },
        "id": "MH21XD99w48P",
        "outputId": "92674744-d661-4c56-e9c8-9a4ee5e8070e"
      },
      "execution_count": 53,
      "outputs": [
        {
          "output_type": "execute_result",
          "data": {
            "text/plain": [
              "torch.Size([3, 36, 274])"
            ]
          },
          "metadata": {},
          "execution_count": 53
        }
      ]
    },
    {
      "cell_type": "code",
      "source": [
        "np.transpose(img, (1, 2, 0)).shape # height is 1st dimension, then width, then # of channels"
      ],
      "metadata": {
        "colab": {
          "base_uri": "https://localhost:8080/"
        },
        "id": "-3ZQeRCsxCPG",
        "outputId": "cfdb0d33-2369-4134-ea50-39e79df26201"
      },
      "execution_count": 54,
      "outputs": [
        {
          "output_type": "execute_result",
          "data": {
            "text/plain": [
              "torch.Size([36, 274, 3])"
            ]
          },
          "metadata": {},
          "execution_count": 54
        }
      ]
    },
    {
      "cell_type": "code",
      "source": [
        "plt.imshow(np.transpose(img, (1, 2, 0)))\n",
        "plt.axis('off')\n",
        "plt.show()"
      ],
      "metadata": {
        "colab": {
          "base_uri": "https://localhost:8080/",
          "height": 75
        },
        "id": "PS84nDzPxYax",
        "outputId": "6834c8a7-e2c8-47b0-b8f2-9bece529462b"
      },
      "execution_count": 55,
      "outputs": [
        {
          "output_type": "display_data",
          "data": {
            "text/plain": [
              "<Figure size 432x288 with 1 Axes>"
            ],
            "image/png": "[encoded data removed]"
          },
          "metadata": {
            "needs_background": "light"
          }
        }
      ]
    },
    {
      "cell_type": "code",
      "source": [
        "import torch.nn as nn"
      ],
      "metadata": {
        "id": "GibETtsKxg2P"
      },
      "execution_count": 56,
      "outputs": []
    },
    {
      "cell_type": "code",
      "source": [
        "input_size = 3 # number of channels\n",
        "hid1_size = 16 # number of channels output by 1st convolutional layer (feature maps=16)\n",
        "hid2_size = 32 # number of channels output by 2nd convolutional layer (feature maps=32)\n",
        "out_size = len(labels) \n",
        "k_conv_size = 5 # 5 x 5 convolutional kernel used"
      ],
      "metadata": {
        "id": "5tuQibqtxo_V"
      },
      "execution_count": 57,
      "outputs": []
    },
    {
      "cell_type": "code",
      "source": [
        "class ConvNet(nn.Module):\n",
        "  def __init__(self):\n",
        "    super(ConvNet, self).__init__()\n",
        "\n",
        "    self.layer1 = nn.Sequential( # sequential = groups of layers \n",
        "        nn.Conv2d(input_size, hid1_size, k_conv_size), # convolutional layer (only need to specify # of input + output channels, size and batch size is inferred by layer)\n",
        "        nn.BatchNorm2d(hid1_size), # normalize output of this layer for one batch so there's 0 mean and unit variance \n",
        "        nn.ReLU(),\n",
        "        nn.MaxPool2d(kernel_size=2)) # max pooling layer w/ 2x2 kernel \n",
        "    \n",
        "    self.layer2 = nn.Sequential(\n",
        "        nn.Conv2d(hid1_size, hid2_size, k_conv_size), # pooling layers do not change number of input features \n",
        "        nn.BatchNorm2d(hid2_size),\n",
        "        nn.ReLU(),\n",
        "        nn.MaxPool2d(kernel_size=2)) \n",
        "    \n",
        "    self.fc = nn.Linear(hid2_size * k_conv_size * k_conv_size, out_size) # at this point number of features to represent an image: 32 x 5 x 5 = 320\n",
        "\n",
        "  def forward(self, x): # x is input\n",
        "    out = self.layer1(x)\n",
        "    out = self.layer2(out)\n",
        "    out = out.reshape(out.size(0), -1) # reshape the output so each image is a 1D vector to feed into linear layer\n",
        "    out = self.fc(out)\n",
        "\n",
        "    return out"
      ],
      "metadata": {
        "id": "6hOu9ygQya4C"
      },
      "execution_count": 58,
      "outputs": []
    },
    {
      "cell_type": "code",
      "source": [
        "model = ConvNet()"
      ],
      "metadata": {
        "id": "vkJzpETt9PhE"
      },
      "execution_count": 59,
      "outputs": []
    },
    {
      "cell_type": "code",
      "source": [
        "learning_rate = 0.001\n",
        "\n",
        "criterion = nn.CrossEntropyLoss() # distance between probability distributions (loss function)\n",
        "\n",
        "optimizer = torch.optim.Adam(model.parameters(),\n",
        "                             lr=learning_rate)"
      ],
      "metadata": {
        "id": "LEJhyGbY9Sv3"
      },
      "execution_count": 60,
      "outputs": []
    },
    {
      "cell_type": "code",
      "source": [
        "total_step = len(trainloader)\n",
        "num_epochs = 20"
      ],
      "metadata": {
        "id": "Wz_K5n_G9lvT"
      },
      "execution_count": 61,
      "outputs": []
    },
    {
      "cell_type": "code",
      "source": [
        "for epoch in range (num_epochs):\n",
        "  for i, (images, labels) in enumerate(trainloader):\n",
        "\n",
        "    outputs = model(images)\n",
        "    loss = criterion(outputs, labels)\n",
        "\n",
        "    optimizer.zero_grad()\n",
        "    loss.backward()\n",
        "    optimizer.step()\n",
        "\n",
        "    if (i+1) % 2000 == 0:\n",
        "      print ('Epoch [{}/{}], Step [{}/{}], Loss: {:.4f}'.format(epoch+1, num_epochs, i+1, total_step, loss.item()))"
      ],
      "metadata": {
        "colab": {
          "base_uri": "https://localhost:8080/"
        },
        "id": "WlHqfSnw9qnz",
        "outputId": "4e39aab0-bec5-4c1d-e341-7e8d5ba809cb"
      },
      "execution_count": 62,
      "outputs": [
        {
          "output_type": "stream",
          "name": "stdout",
          "text": [
            "Epoch [1/20], Step [2000/6250], Loss: 1.1950\n",
            "Epoch [1/20], Step [4000/6250], Loss: 0.8713\n",
            "Epoch [1/20], Step [6000/6250], Loss: 1.3313\n",
            "Epoch [2/20], Step [2000/6250], Loss: 0.7182\n",
            "Epoch [2/20], Step [4000/6250], Loss: 1.6269\n",
            "Epoch [2/20], Step [6000/6250], Loss: 1.1784\n",
            "Epoch [3/20], Step [2000/6250], Loss: 0.6876\n",
            "Epoch [3/20], Step [4000/6250], Loss: 1.1021\n",
            "Epoch [3/20], Step [6000/6250], Loss: 0.9133\n",
            "Epoch [4/20], Step [2000/6250], Loss: 1.3466\n",
            "Epoch [4/20], Step [4000/6250], Loss: 0.4763\n",
            "Epoch [4/20], Step [6000/6250], Loss: 0.2206\n",
            "Epoch [5/20], Step [2000/6250], Loss: 1.2440\n",
            "Epoch [5/20], Step [4000/6250], Loss: 0.9870\n",
            "Epoch [5/20], Step [6000/6250], Loss: 1.1167\n",
            "Epoch [6/20], Step [2000/6250], Loss: 0.4759\n",
            "Epoch [6/20], Step [4000/6250], Loss: 1.6457\n",
            "Epoch [6/20], Step [6000/6250], Loss: 0.7940\n",
            "Epoch [7/20], Step [2000/6250], Loss: 1.1573\n",
            "Epoch [7/20], Step [4000/6250], Loss: 0.8646\n",
            "Epoch [7/20], Step [6000/6250], Loss: 0.6546\n",
            "Epoch [8/20], Step [2000/6250], Loss: 1.5131\n",
            "Epoch [8/20], Step [4000/6250], Loss: 0.7095\n",
            "Epoch [8/20], Step [6000/6250], Loss: 0.2734\n",
            "Epoch [9/20], Step [2000/6250], Loss: 0.7630\n",
            "Epoch [9/20], Step [4000/6250], Loss: 0.9227\n",
            "Epoch [9/20], Step [6000/6250], Loss: 0.8438\n",
            "Epoch [10/20], Step [2000/6250], Loss: 0.3835\n",
            "Epoch [10/20], Step [4000/6250], Loss: 0.5121\n",
            "Epoch [10/20], Step [6000/6250], Loss: 0.4577\n",
            "Epoch [11/20], Step [2000/6250], Loss: 1.0349\n",
            "Epoch [11/20], Step [4000/6250], Loss: 0.6933\n",
            "Epoch [11/20], Step [6000/6250], Loss: 0.3326\n",
            "Epoch [12/20], Step [2000/6250], Loss: 1.2668\n",
            "Epoch [12/20], Step [4000/6250], Loss: 0.8881\n",
            "Epoch [12/20], Step [6000/6250], Loss: 0.4215\n",
            "Epoch [13/20], Step [2000/6250], Loss: 1.3475\n",
            "Epoch [13/20], Step [4000/6250], Loss: 0.4896\n",
            "Epoch [13/20], Step [6000/6250], Loss: 1.9902\n",
            "Epoch [14/20], Step [2000/6250], Loss: 0.7286\n",
            "Epoch [14/20], Step [4000/6250], Loss: 0.6631\n",
            "Epoch [14/20], Step [6000/6250], Loss: 0.6470\n",
            "Epoch [15/20], Step [2000/6250], Loss: 1.3065\n",
            "Epoch [15/20], Step [4000/6250], Loss: 1.0966\n",
            "Epoch [15/20], Step [6000/6250], Loss: 0.9652\n",
            "Epoch [16/20], Step [2000/6250], Loss: 0.9268\n",
            "Epoch [16/20], Step [4000/6250], Loss: 0.3519\n",
            "Epoch [16/20], Step [6000/6250], Loss: 0.6766\n",
            "Epoch [17/20], Step [2000/6250], Loss: 0.7109\n",
            "Epoch [17/20], Step [4000/6250], Loss: 1.2754\n",
            "Epoch [17/20], Step [6000/6250], Loss: 1.3409\n",
            "Epoch [18/20], Step [2000/6250], Loss: 0.6374\n",
            "Epoch [18/20], Step [4000/6250], Loss: 0.7740\n",
            "Epoch [18/20], Step [6000/6250], Loss: 0.9394\n",
            "Epoch [19/20], Step [2000/6250], Loss: 0.6323\n",
            "Epoch [19/20], Step [4000/6250], Loss: 0.9980\n",
            "Epoch [19/20], Step [6000/6250], Loss: 0.4481\n",
            "Epoch [20/20], Step [2000/6250], Loss: 0.4654\n",
            "Epoch [20/20], Step [4000/6250], Loss: 0.9721\n",
            "Epoch [20/20], Step [6000/6250], Loss: 0.8024\n"
          ]
        }
      ]
    },
    {
      "cell_type": "code",
      "source": [
        "model.eval() # put model into testing mode \n",
        "with torch.no_grad():\n",
        "  correct = 0\n",
        "  total = 0 \n",
        "  for images, labels in testloader:\n",
        "    \n",
        "    outputs = model(images)\n",
        "    _, predicted = torch.max(outputs.data, 1) # choose output with highest probability \n",
        "\n",
        "    total += labels.size(0) # total number of test instances\n",
        "    correct += (predicted == labels).sum().item() # total number of correct predictions (predicted == labels)\n",
        "\n",
        "  print('Accuracy of the model: {}%'.format(100 * correct / total))"
      ],
      "metadata": {
        "colab": {
          "base_uri": "https://localhost:8080/"
        },
        "id": "fO6Y9zau-Trb",
        "outputId": "91c781f2-e380-4215-e8fd-f65d86ea8992"
      },
      "execution_count": 65,
      "outputs": [
        {
          "output_type": "stream",
          "name": "stdout",
          "text": [
            "Accuracy of the model: 69.53%\n"
          ]
        }
      ]
    },
    {
      "cell_type": "markdown",
      "source": [
        "**Model is pretty clearly overfitted ^**"
      ],
      "metadata": {
        "id": "B4dPm8QIGJCt"
      }
    }
  ]
}